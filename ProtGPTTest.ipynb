{
 "cells": [
  {
   "cell_type": "code",
   "execution_count": 26,
   "id": "5eb63af6-0eb2-4cfc-8d99-fab65a4dc3de",
   "metadata": {},
   "outputs": [],
   "source": [
    "import pandas as pd\n",
    "import numpy as np"
   ]
  },
  {
   "cell_type": "code",
   "execution_count": 54,
   "id": "e89ab775-5fab-4e71-9b0a-7c275c4c743d",
   "metadata": {},
   "outputs": [
    {
     "data": {
      "text/html": [
       "<div>\n",
       "<style scoped>\n",
       "    .dataframe tbody tr th:only-of-type {\n",
       "        vertical-align: middle;\n",
       "    }\n",
       "\n",
       "    .dataframe tbody tr th {\n",
       "        vertical-align: top;\n",
       "    }\n",
       "\n",
       "    .dataframe thead th {\n",
       "        text-align: right;\n",
       "    }\n",
       "</style>\n",
       "<table border=\"1\" class=\"dataframe\">\n",
       "  <thead>\n",
       "    <tr style=\"text-align: right;\">\n",
       "      <th></th>\n",
       "      <th>id</th>\n",
       "      <th>seq</th>\n",
       "    </tr>\n",
       "  </thead>\n",
       "  <tbody>\n",
       "    <tr>\n",
       "      <th>0</th>\n",
       "      <td>sp|P75863|-|344</td>\n",
       "      <td>CGSCRVQLLEGEVTPLKKSAMGDDGTILCCSCV</td>\n",
       "    </tr>\n",
       "    <tr>\n",
       "      <th>1</th>\n",
       "      <td>sp|P0ABS8|-|7</td>\n",
       "      <td>----------MLKNLAKLDQTEMDKVNVDLAAA</td>\n",
       "    </tr>\n",
       "    <tr>\n",
       "      <th>2</th>\n",
       "      <td>sp|P0ABS8|-|74</td>\n",
       "      <td>AHRLASVNLSRLPYEPKLK--------------</td>\n",
       "    </tr>\n",
       "    <tr>\n",
       "      <th>3</th>\n",
       "      <td>sp|P0A7D7|-|3</td>\n",
       "      <td>--------------MQKQAELYRGKAKTVYSTE</td>\n",
       "    </tr>\n",
       "    <tr>\n",
       "      <th>4</th>\n",
       "      <td>sp|P0A7D7|-|52</td>\n",
       "      <td>DGARIEQFDRKGMVNNKFNYFIMSKLAEAGIPT</td>\n",
       "    </tr>\n",
       "  </tbody>\n",
       "</table>\n",
       "</div>"
      ],
      "text/plain": [
       "                id                                seq\n",
       "0  sp|P75863|-|344  CGSCRVQLLEGEVTPLKKSAMGDDGTILCCSCV\n",
       "1    sp|P0ABS8|-|7  ----------MLKNLAKLDQTEMDKVNVDLAAA\n",
       "2   sp|P0ABS8|-|74  AHRLASVNLSRLPYEPKLK--------------\n",
       "3    sp|P0A7D7|-|3  --------------MQKQAELYRGKAKTVYSTE\n",
       "4   sp|P0A7D7|-|52  DGARIEQFDRKGMVNNKFNYFIMSKLAEAGIPT"
      ]
     },
     "execution_count": 54,
     "metadata": {},
     "output_type": "execute_result"
    }
   ],
   "source": [
    "positive_sites = pd.read_csv('positive_sites.csv')\n",
    "negative_sites = pd.read_csv('negative_sites.csv')\n",
    "positive_sites.head()"
   ]
  },
  {
   "cell_type": "code",
   "execution_count": 55,
   "id": "2bc22a24-1f48-4556-b798-413245b07670",
   "metadata": {},
   "outputs": [
    {
     "name": "stderr",
     "output_type": "stream",
     "text": [
      "C:\\Users\\steve\\AppData\\Local\\Temp\\ipykernel_2356\\1249766546.py:5: FutureWarning: ChainedAssignmentError: behaviour will change in pandas 3.0!\n",
      "You are setting values through chained assignment. Currently this works in certain cases, but when using Copy-on-Write (which will become the default behaviour in pandas 3.0) this will never work to update the original DataFrame or Series, because the intermediate object on which we are setting values will behave as a copy.\n",
      "A typical example is when you are setting values in a column of a DataFrame, like:\n",
      "\n",
      "df[\"col\"][row_indexer] = value\n",
      "\n",
      "Use `df.loc[row_indexer, \"col\"] = values` instead, to perform the assignment in a single step and ensure this keeps updating the original `df`.\n",
      "\n",
      "See the caveats in the documentation: https://pandas.pydata.org/pandas-docs/stable/user_guide/indexing.html#returning-a-view-versus-a-copy\n",
      "\n",
      "  positive_sites['seq'][i] = '<startoftext>'+sequence+'LABEL:POSITIVE<endoftext>'\n",
      "C:\\Users\\steve\\AppData\\Local\\Temp\\ipykernel_2356\\1249766546.py:9: FutureWarning: ChainedAssignmentError: behaviour will change in pandas 3.0!\n",
      "You are setting values through chained assignment. Currently this works in certain cases, but when using Copy-on-Write (which will become the default behaviour in pandas 3.0) this will never work to update the original DataFrame or Series, because the intermediate object on which we are setting values will behave as a copy.\n",
      "A typical example is when you are setting values in a column of a DataFrame, like:\n",
      "\n",
      "df[\"col\"][row_indexer] = value\n",
      "\n",
      "Use `df.loc[row_indexer, \"col\"] = values` instead, to perform the assignment in a single step and ensure this keeps updating the original `df`.\n",
      "\n",
      "See the caveats in the documentation: https://pandas.pydata.org/pandas-docs/stable/user_guide/indexing.html#returning-a-view-versus-a-copy\n",
      "\n",
      "  negative_sites['seq'][i] = '<startoftext>'+sequence+'LABEL:NEGATIVE<endoftext>'\n"
     ]
    }
   ],
   "source": [
    "positive_sites = positive_sites.drop('id', axis=1)\n",
    "negative_sites = negative_sites.drop('id', axis=1)\n",
    "i=0\n",
    "for sequence in positive_sites['seq']:\n",
    "    positive_sites['seq'][i] = '<startoftext>'+sequence+'LABEL:POSITIVE<endoftext>'\n",
    "    i += 1\n",
    "i = 0\n",
    "for sequence in negative_sites['seq']:\n",
    "    negative_sites['seq'][i] = '<startoftext>'+sequence+'LABEL:NEGATIVE<endoftext>'\n",
    "    i+=1\n"
   ]
  },
  {
   "cell_type": "code",
   "execution_count": 56,
   "id": "833f2186-a209-47ee-a1e1-868b54da8fff",
   "metadata": {},
   "outputs": [
    {
     "name": "stderr",
     "output_type": "stream",
     "text": [
      "C:\\Users\\steve\\anaconda3\\envs\\protgpttest\\lib\\site-packages\\huggingface_hub\\file_download.py:1132: FutureWarning: `resume_download` is deprecated and will be removed in version 1.0.0. Downloads always resume when possible. If you want to force a new download, use `force_download=True`.\n",
      "  warnings.warn(\n"
     ]
    }
   ],
   "source": [
    "from transformers import AutoTokenizer, AutoModelForCausalLM\n",
    "\n",
    "tokenizer = AutoTokenizer.from_pretrained(\"nferruz/ProtGPT2\")"
   ]
  },
  {
   "cell_type": "code",
   "execution_count": 70,
   "id": "7fafe543-be30-4bd6-b816-3e1c624cf283",
   "metadata": {},
   "outputs": [],
   "source": [
    "pos = positive_sites['seq']\n",
    "neg = negative_sites['seq']"
   ]
  },
  {
   "cell_type": "code",
   "execution_count": 92,
   "id": "56a88472-1ecf-464e-b510-fe2dd10e0036",
   "metadata": {},
   "outputs": [],
   "source": [
    "train_data = pd.concat([pos,neg], ignore_index=True)"
   ]
  },
  {
   "cell_type": "code",
   "execution_count": 93,
   "id": "e248526d-ba67-410f-9afd-fa88dd573329",
   "metadata": {},
   "outputs": [],
   "source": [
    "from sklearn.model_selection import train_test_split"
   ]
  },
  {
   "cell_type": "code",
   "execution_count": 94,
   "id": "36919bb5-cb66-42ff-bf3f-5947951e3552",
   "metadata": {},
   "outputs": [],
   "source": [
    "from sklearn.utils import shuffle\n",
    "train_data = shuffle(train_data)"
   ]
  },
  {
   "cell_type": "code",
   "execution_count": 95,
   "id": "76a016ae-25ca-4ed0-a8fd-333926d5c913",
   "metadata": {},
   "outputs": [
    {
     "data": {
      "text/plain": [
       "1899.8000000000002"
      ]
     },
     "execution_count": 95,
     "metadata": {},
     "output_type": "execute_result"
    }
   ],
   "source": [
    "len(train_data)\n",
    "9499 * .2"
   ]
  },
  {
   "cell_type": "code",
   "execution_count": 96,
   "id": "4bb61429-1769-4606-8523-cb9174899077",
   "metadata": {},
   "outputs": [],
   "source": [
    "valid_data = train_data[:1900]\n",
    "train_data = train_data[1900:]"
   ]
  },
  {
   "cell_type": "code",
   "execution_count": 97,
   "id": "a4df1a61-83c3-4955-8766-7cfc60153bd5",
   "metadata": {},
   "outputs": [
    {
     "name": "stdout",
     "output_type": "stream",
     "text": [
      "5402    <startoftext>TLEYQVVRTTLLPGILKTVKENRKHSLPIKVFE...\n",
      "1875    <startoftext>DPFAHLPKSTFVLDEFKRKYSNEDTLSVALPYF...\n",
      "5829    <startoftext>-------------MKLKTTLFGNVYQFKDVKEV...\n",
      "3994    <startoftext>------------MNIVKLQRKFPILTQEDLFST...\n",
      "9346    <startoftext>PGNVSKEYNEFAEVFLKAFAVGVQQVLLKVLYQ...\n",
      "                              ...                        \n",
      "4609    <startoftext>ETLRFHHGKHHAAYVNKLNGFIQGTPFADKTLE...\n",
      "2051    <startoftext>GDQCDKCGKLINAVELKKPQCKVCRSCPVVQSS...\n",
      "5746    <startoftext>TLAILQIESEKAELRLKEQEVRRLMRARGDGPW...\n",
      "2985    <startoftext>KVKVGKEDSSSTEFVEKRRAALERYLQRTVKHP...\n",
      "5409    <startoftext>GLLRPQVLWDELLAECKAAPGGDRESFALLHPD...\n",
      "Name: seq, Length: 7599, dtype: object\n"
     ]
    }
   ],
   "source": [
    "print(train_data)"
   ]
  },
  {
   "cell_type": "code",
   "execution_count": 103,
   "id": "23e2ee6c-265b-4efb-bd9f-04c09d9305c4",
   "metadata": {},
   "outputs": [],
   "source": [
    "np.savetxt('train_data.txt', train_data, fmt='%s')\n",
    "np.savetxt('valid_data.txt', valid_data, fmt='%s')"
   ]
  },
  {
   "cell_type": "code",
   "execution_count": null,
   "id": "711fbdaf-7ba0-4ca2-964d-dc4cf1abe8e8",
   "metadata": {},
   "outputs": [],
   "source": []
  }
 ],
 "metadata": {
  "kernelspec": {
   "display_name": "Python 3 (ipykernel)",
   "language": "python",
   "name": "python3"
  },
  "language_info": {
   "codemirror_mode": {
    "name": "ipython",
    "version": 3
   },
   "file_extension": ".py",
   "mimetype": "text/x-python",
   "name": "python",
   "nbconvert_exporter": "python",
   "pygments_lexer": "ipython3",
   "version": "3.11.5"
  }
 },
 "nbformat": 4,
 "nbformat_minor": 5
}
